{
  "nbformat": 4,
  "nbformat_minor": 0,
  "metadata": {
    "colab": {
      "provenance": [],
      "include_colab_link": true
    },
    "kernelspec": {
      "name": "python3",
      "display_name": "Python 3"
    },
    "language_info": {
      "name": "python"
    }
  },
  "cells": [
    {
      "cell_type": "markdown",
      "metadata": {
        "id": "view-in-github",
        "colab_type": "text"
      },
      "source": [
        "<a href=\"https://colab.research.google.com/github/Ramkanc/Capstone_IIITH/blob/Capstone1_RamK_Multi_torch/Capstone1_RamK_Multi.ipynb\" target=\"_parent\"><img src=\"https://colab.research.google.com/assets/colab-badge.svg\" alt=\"Open In Colab\"/></a>"
      ]
    },
    {
      "cell_type": "code",
      "source": [
        "!pip install opencv-python==4.8.0.76"
      ],
      "metadata": {
        "id": "L4R6vXPWVQa0",
        "outputId": "b7a43425-8073-4398-b50d-1a9d69688169",
        "colab": {
          "base_uri": "https://localhost:8080/"
        }
      },
      "execution_count": 1,
      "outputs": [
        {
          "output_type": "stream",
          "name": "stdout",
          "text": [
            "Collecting opencv-python==4.8.0.76\n",
            "  Downloading opencv_python-4.8.0.76-cp37-abi3-manylinux_2_17_x86_64.manylinux2014_x86_64.whl.metadata (19 kB)\n",
            "Requirement already satisfied: numpy>=1.21.2 in /usr/local/lib/python3.10/dist-packages (from opencv-python==4.8.0.76) (1.26.4)\n",
            "Downloading opencv_python-4.8.0.76-cp37-abi3-manylinux_2_17_x86_64.manylinux2014_x86_64.whl (61.7 MB)\n",
            "\u001b[2K   \u001b[90m━━━━━━━━━━━━━━━━━━━━━━━━━━━━━━━━━━━━━━━━\u001b[0m \u001b[32m61.7/61.7 MB\u001b[0m \u001b[31m10.5 MB/s\u001b[0m eta \u001b[36m0:00:00\u001b[0m\n",
            "\u001b[?25hInstalling collected packages: opencv-python\n",
            "  Attempting uninstall: opencv-python\n",
            "    Found existing installation: opencv-python 4.10.0.84\n",
            "    Uninstalling opencv-python-4.10.0.84:\n",
            "      Successfully uninstalled opencv-python-4.10.0.84\n",
            "Successfully installed opencv-python-4.8.0.76\n"
          ]
        }
      ]
    },
    {
      "cell_type": "code",
      "metadata": {
        "id": "MXq346qzqCdh"
      },
      "source": [
        "# Import Libraries\n",
        "import torch\n",
        "import torchvision\n",
        "from torch import nn\n",
        "from torch import optim\n",
        "import torch.nn.functional as F\n",
        "\n",
        "from torchsummary import summary\n",
        "from torchvision import datasets, transforms, models\n",
        "from torch.utils.data import DataLoader, random_split\n",
        "from torchvision.datasets import ImageFolder\n",
        "\n",
        "import matplotlib.pyplot as plt\n",
        "import numpy as np\n",
        "import os\n",
        "from os import listdir\n",
        "import pandas as pd"
      ],
      "execution_count": 2,
      "outputs": []
    },
    {
      "cell_type": "code",
      "source": [
        "import PIL\n",
        "from PIL import Image"
      ],
      "metadata": {
        "id": "bqqhYuL_bLON"
      },
      "execution_count": 3,
      "outputs": []
    },
    {
      "cell_type": "code",
      "source": [
        "import cv2"
      ],
      "metadata": {
        "id": "QBKuhh5QceNm"
      },
      "execution_count": 4,
      "outputs": []
    },
    {
      "cell_type": "code",
      "source": [
        "import kagglehub\n",
        "\n",
        "# Download latest version\n",
        "path = kagglehub.dataset_download(\"adityajn105/flickr8k\")\n",
        "\n",
        "print(\"Path to dataset files:\", path)"
      ],
      "metadata": {
        "id": "_ZogNW_9VUcD",
        "outputId": "5f351f9e-c555-442e-ef83-99996a4594d2",
        "colab": {
          "base_uri": "https://localhost:8080/"
        }
      },
      "execution_count": 5,
      "outputs": [
        {
          "output_type": "stream",
          "name": "stdout",
          "text": [
            "Downloading from https://www.kaggle.com/api/v1/datasets/download/adityajn105/flickr8k?dataset_version_number=1...\n"
          ]
        },
        {
          "output_type": "stream",
          "name": "stderr",
          "text": [
            "100%|██████████| 1.04G/1.04G [00:10<00:00, 102MB/s]"
          ]
        },
        {
          "output_type": "stream",
          "name": "stdout",
          "text": [
            "Extracting files...\n"
          ]
        },
        {
          "output_type": "stream",
          "name": "stderr",
          "text": [
            "\n"
          ]
        },
        {
          "output_type": "stream",
          "name": "stdout",
          "text": [
            "Path to dataset files: /root/.cache/kagglehub/datasets/adityajn105/flickr8k/versions/1\n"
          ]
        }
      ]
    },
    {
      "cell_type": "code",
      "source": [
        "found_directories = [d for d in os.listdir(path) if os.path.isdir(os.path.join(path, d))]\n",
        "found_files =[f for f in os.listdir(path) if os.path.isfile(os.path.join(path, f))]\n",
        "print (found_directories)\n",
        "print (found_files)"
      ],
      "metadata": {
        "colab": {
          "base_uri": "https://localhost:8080/"
        },
        "id": "LmNItWTcDWtC",
        "outputId": "2faef22e-1af3-4818-f4a9-d2e733e05d91"
      },
      "execution_count": 7,
      "outputs": [
        {
          "output_type": "stream",
          "name": "stdout",
          "text": [
            "['Images']\n",
            "['captions.txt']\n"
          ]
        }
      ]
    },
    {
      "cell_type": "code",
      "source": [
        "image_dir= os.path.join(path, found_directories[0])\n",
        "print(image_dir)"
      ],
      "metadata": {
        "id": "JgP09fwucrM1",
        "colab": {
          "base_uri": "https://localhost:8080/"
        },
        "outputId": "25744b92-a114-468c-9224-dfd8efa0d287"
      },
      "execution_count": 18,
      "outputs": [
        {
          "output_type": "stream",
          "name": "stdout",
          "text": [
            "/root/.cache/kagglehub/datasets/adityajn105/flickr8k/versions/1/Images\n"
          ]
        }
      ]
    },
    {
      "cell_type": "code",
      "source": [
        "import os\n",
        "import cv2\n",
        "import torch\n",
        "import numpy as np\n",
        "from torch.utils.data import Dataset, DataLoader\n",
        "\n",
        "# Define a custom dataset class\n",
        "class CustomImageDataset(Dataset):\n",
        "    def __init__(self, image_dir):\n",
        "        \"\"\"\n",
        "        Args:\n",
        "            image_dir (str): Path to the directory with images.\n",
        "        \"\"\"\n",
        "        self.image_dir = image_dir\n",
        "        self.image_files = [f for f in os.listdir(image_dir) if f.endswith(('jpg', 'png', 'jpeg'))]\n",
        "\n",
        "    def preprocess_image_opencv(self, image_path):\n",
        "        # Read the image using OpenCV\n",
        "        image = cv2.imread(image_path)\n",
        "        if image is None:\n",
        "            raise ValueError(f\"Image not found at {image_path}\")\n",
        "\n",
        "        # Resize to 224x224\n",
        "        image_resized = cv2.resize(image, (224, 224))\n",
        "\n",
        "        # Convert from BGR to RGB\n",
        "        image_rgb = cv2.cvtColor(image_resized, cv2.COLOR_BGR2RGB)\n",
        "\n",
        "        # Normalize pixel values to [0, 1]\n",
        "        image_normalized = image_rgb / 255.0\n",
        "\n",
        "        # Reshape to CxHxW\n",
        "        image_reshaped = np.transpose(image_normalized, (2, 0, 1))\n",
        "\n",
        "        # Convert to PyTorch tensor\n",
        "        image_tensor = torch.tensor(image_reshaped, dtype=torch.float32)\n",
        "\n",
        "        # Normalize using ImageNet mean and std\n",
        "        mean = torch.tensor([0.485, 0.456, 0.406]).view(3, 1, 1)\n",
        "        std = torch.tensor([0.229, 0.224, 0.225]).view(3, 1, 1)\n",
        "        image_tensor = (image_tensor - mean) / std\n",
        "\n",
        "        return image_tensor\n",
        "\n",
        "    def __len__(self):\n",
        "        # Return the number of images\n",
        "        return len(self.image_files)\n",
        "\n",
        "    def __getitem__(self, idx):\n",
        "        # Get the image path\n",
        "        image_path = os.path.join(self.image_dir, self.image_files[idx])\n",
        "\n",
        "        # Preprocess the image\n",
        "        image_tensor = self.preprocess_image_opencv(image_path)\n",
        "\n",
        "        # Return the processed tensor\n",
        "        return image_tensor\n",
        "\n",
        "# Define the directory containing images\n",
        "#image_dir = \"path_to_image_directory\"  # Replace with your directory\n",
        "\n",
        "\n"
      ],
      "metadata": {
        "id": "Zw6ybo3kC6M6",
        "outputId": "84e5fb73-4988-4bc0-e472-ec45aefd507d",
        "colab": {
          "base_uri": "https://localhost:8080/"
        }
      },
      "execution_count": 19,
      "outputs": [
        {
          "output_type": "stream",
          "name": "stdout",
          "text": [
            "Batch 1:\n",
            "Shape: torch.Size([16, 3, 224, 224])\n",
            "Type: torch.float32\n"
          ]
        }
      ]
    },
    {
      "cell_type": "code",
      "source": [
        "# Create an instance of the custom dataset\n",
        "dataset = CustomImageDataset(image_dir)\n",
        "\n",
        "# Create a DataLoader\n",
        "dataloader = DataLoader(dataset, batch_size=32, shuffle=True)"
      ],
      "metadata": {
        "id": "vOEyw8GNDb6C"
      },
      "execution_count": null,
      "outputs": []
    },
    {
      "cell_type": "code",
      "source": [
        "\n",
        "\n",
        "# Iterate over the DataLoader\n",
        "for batch_idx, batch_images in enumerate(dataloader):\n",
        "    print(f\"Batch {batch_idx + 1}:\")\n",
        "    print(f\"Shape: {batch_images.shape}\")  # Expected: [batch_size, 3, 224, 224]\n",
        "    print(f\"Type: {batch_images.dtype}\")  # Expected: torch.float32\n",
        "    break"
      ],
      "metadata": {
        "id": "lbqv3SXEDTyK",
        "outputId": "45990676-dd80-4612-de5c-f3f9e44c4052",
        "colab": {
          "base_uri": "https://localhost:8080/"
        }
      },
      "execution_count": 21,
      "outputs": [
        {
          "output_type": "stream",
          "name": "stdout",
          "text": [
            "Batch 1:\n",
            "Shape: torch.Size([32, 3, 224, 224])\n",
            "Type: torch.float32\n"
          ]
        }
      ]
    }
  ]
}